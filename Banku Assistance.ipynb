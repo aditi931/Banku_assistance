{
 "cells": [
  {
   "cell_type": "code",
   "execution_count": 17,
   "id": "7dd161b5",
   "metadata": {},
   "outputs": [
    {
     "name": "stdout",
     "output_type": "stream",
     "text": [
      "say something\n",
      "Done\n",
      "google thing you said hello\n",
      "could not locate runnable browser\n"
     ]
    }
   ],
   "source": [
    "import speech_recognition as sr\n",
    "import webbrowser as wb\n",
    "edge_path=\"C:\\Program Files (x86)\\Microsoft\\Edge\\Application\\msedge.exe\"\n",
    "r = sr.Recognizer()\n",
    "with sr.Microphone() as source:\n",
    "    print('say something')\n",
    "    audio=r.listen(source,0,3)\n",
    "    print('Done')\n",
    "    text = r.recognize_google(audio)\n",
    "    \n",
    "    try:\n",
    "        text = r.recognize_google(audio)  \n",
    "        print('google thing you said ' + text)\n",
    "        \n",
    "        f_text='https://www.google.com/search?q=' +text\n",
    "        wb.get(edge_path).open(f_text)\n",
    "    \n",
    "    except Exception as e:\n",
    "         print(e)"
   ]
  },
  {
   "cell_type": "code",
   "execution_count": 2,
   "id": "194036ec",
   "metadata": {},
   "outputs": [],
   "source": [
    "import pyttsx3\n",
    "engine = pyttsx3.init()\n",
    "h =\"sentence\"\n",
    "engine.say(h)\n",
    "engine.runAndWait()"
   ]
  },
  {
   "cell_type": "code",
   "execution_count": null,
   "id": "99314943",
   "metadata": {},
   "outputs": [],
   "source": [
    "#read file\n",
    "s= open(\"File_path\")\n",
    "n = s.read()"
   ]
  },
  {
   "cell_type": "code",
   "execution_count": 5,
   "id": "49ddb46c",
   "metadata": {},
   "outputs": [],
   "source": [
    "from googletrans import Translator"
   ]
  },
  {
   "cell_type": "code",
   "execution_count": 3,
   "id": "1d5919ba",
   "metadata": {
    "scrolled": true
   },
   "outputs": [
    {
     "name": "stdout",
     "output_type": "stream",
     "text": [
      "computer good afternoon Aditi\n",
      "computer I am Your Banku Assistant\n",
      "computer How can I help you?\n",
      "say something\n",
      "you said your voice is so good\n",
      "say something\n",
      "you said stop\n",
      "ok thank you\n"
     ]
    }
   ],
   "source": [
    "import speech_recognition as sr\n",
    "from googletrans import Translator\n",
    "from gtts import gTTS\n",
    "\n",
    "import webbrowser\n",
    "import pyttsx3\n",
    "import datetime \n",
    "\n",
    "r= sr.Recognizer()\n",
    "a = pyttsx3.init()\n",
    "\n",
    "def speak(audio):\n",
    "    print(\"computer\", audio)\n",
    "    a.say(audio)\n",
    "    a.runAndWait()\n",
    "    \n",
    "d = int(datetime.datetime.now().hour)\n",
    "\n",
    "if d>= 4 and d<=12:\n",
    "    speak(\"Good Morning Aditi\")\n",
    "elif d>12 and d<=18:\n",
    "    speak(\"good afternoon Aditi\")\n",
    "else:\n",
    "     speak(\"good evening Aditi\")\n",
    "   \n",
    "\n",
    "speak(\"I am Your Banku Assistant\")\n",
    "speak(\"How can I help you?\")\n",
    "\n",
    "while True:\n",
    "    with sr.Microphone() as source:\n",
    "        print('say something')\n",
    "        audio=r.listen(source,0,3)\n",
    "        text = r.recognize_google(audio, language='en-in')\n",
    "        print('you said', format(text))\n",
    "        b = format(text)\n",
    "        \n",
    "        if b=='open youtube' or b== 'open YouTube':\n",
    "            speak(\"ok sir as your wish\")\n",
    "            webbrowser.open('www.youtube.com')\n",
    "            speak('opening youtube')\n",
    "            \n",
    "        elif b=='translator' or b=='Translator':\n",
    "            speak(\"speak sir\")\n",
    "            with sr.Microphone() as source:\n",
    "                print('say something')\n",
    "                audio=r.listen(source,0,3)\n",
    "                text = r.recognize_google(audio)\n",
    "                result=format(text)\n",
    "                \n",
    "                p=Translator()\n",
    "                k = p.translate(result, dest='hi')\n",
    "                var =k.text\n",
    "                speak = gTTS(text = var, slow=False)\n",
    "            \n",
    "        elif(b=='stop' or b=='Stop'):\n",
    "            break\n",
    "print(\"ok thank you\")\n",
    "    "
   ]
  },
  {
   "cell_type": "code",
   "execution_count": 15,
   "id": "1010909b",
   "metadata": {},
   "outputs": [],
   "source": [
    "from playsound import playsound\n",
    "import speech_recognition as sr \n",
    "from googletrans import Translator \n",
    "from gtts import gTTS \n",
    "import os"
   ]
  },
  {
   "cell_type": "code",
   "execution_count": 22,
   "id": "73668889",
   "metadata": {},
   "outputs": [],
   "source": [
    "def takecommand():\n",
    "    r = sr.Recognizer()\n",
    "    with sr.Microphone() as source:\n",
    "        print(\"listening...\")\n",
    "        audio=r.listen(source,0,3)\n",
    "        \n",
    "        try:\n",
    "            print(\"Recognizing...\")\n",
    "            query = r.recognize_google(audio, language='en-in')\n",
    "            print(f\"user said{query}\\n\")\n",
    "        except Exception as e:\n",
    "            print(\"say that again please ...\")\n",
    "            return \"None\"\n",
    "        return query"
   ]
  },
  {
   "cell_type": "code",
   "execution_count": 23,
   "id": "7ad17f41",
   "metadata": {},
   "outputs": [
    {
     "name": "stdout",
     "output_type": "stream",
     "text": [
      "listening...\n",
      "Recognizing...\n",
      "say that again please ...\n",
      "listening...\n",
      "Recognizing...\n",
      "say that again please ...\n",
      "listening...\n",
      "Recognizing...\n",
      "user saidOk Ok Google\n",
      "\n"
     ]
    }
   ],
   "source": [
    "query = takecommand()\n",
    "while (query == \"None\"):\n",
    "    query = takecommand()"
   ]
  },
  {
   "cell_type": "code",
   "execution_count": 1,
   "id": "c8fa2363",
   "metadata": {},
   "outputs": [],
   "source": [
    "import requests\n",
    "def show(phone, otp):\n",
    "    #PHONE = input(\"Enter the phone number\")\n",
    "    \n",
    "    #otp = random.randint(1000, 9999)\n",
    "    url = \"https://www.fast2sms.com/dev/bulkV2\"\n",
    "    payload = (f\"sender_id = FSTSMS&message =- :Use {otp} as Voice Controlled Resume Maker Security CODE&language=english&route=p&numbers={phone}\")\n",
    "    headers = {\n",
    "               'authorization' : \"vU3I9QaTiXj0NdFHP57\"\n",
    "    }"
   ]
  },
  {
   "cell_type": "code",
   "execution_count": 4,
   "id": "4891eafd",
   "metadata": {},
   "outputs": [
    {
     "name": "stdout",
     "output_type": "stream",
     "text": [
      "Listening...\n",
      "Recognizing...\n",
      "User said:do you do for work what is your work\n",
      "\n",
      "Listening...\n",
      "Recognizing...\n",
      "\n",
      "Listening...\n",
      "Recognizing...\n",
      "\n",
      "Listening...\n"
     ]
    },
    {
     "ename": "KeyboardInterrupt",
     "evalue": "",
     "output_type": "error",
     "traceback": [
      "\u001b[1;31m---------------------------------------------------------------------------\u001b[0m",
      "\u001b[1;31mKeyboardInterrupt\u001b[0m                         Traceback (most recent call last)",
      "\u001b[1;32mC:\\Users\\ADITIS~1\\AppData\\Local\\Temp/ipykernel_17380/374921640.py\u001b[0m in \u001b[0;36m<module>\u001b[1;34m\u001b[0m\n\u001b[0;32m     46\u001b[0m     \u001b[0mspeak\u001b[0m\u001b[1;33m(\u001b[0m\u001b[1;34m\"How can I help you?\"\u001b[0m\u001b[1;33m)\u001b[0m\u001b[1;33m\u001b[0m\u001b[1;33m\u001b[0m\u001b[0m\n\u001b[0;32m     47\u001b[0m     \u001b[1;32mwhile\u001b[0m \u001b[1;32mTrue\u001b[0m\u001b[1;33m:\u001b[0m\u001b[1;33m\u001b[0m\u001b[1;33m\u001b[0m\u001b[0m\n\u001b[1;32m---> 48\u001b[1;33m         \u001b[0mquery\u001b[0m \u001b[1;33m=\u001b[0m \u001b[0mtake_command\u001b[0m\u001b[1;33m(\u001b[0m\u001b[1;33m)\u001b[0m\u001b[1;33m.\u001b[0m\u001b[0mlower\u001b[0m\u001b[1;33m(\u001b[0m\u001b[1;33m)\u001b[0m\u001b[1;33m\u001b[0m\u001b[1;33m\u001b[0m\u001b[0m\n\u001b[0m\u001b[0;32m     49\u001b[0m         \u001b[1;32mif\u001b[0m \u001b[1;34m'wikipedia'\u001b[0m \u001b[1;32min\u001b[0m \u001b[0mquery\u001b[0m\u001b[1;33m:\u001b[0m\u001b[1;33m\u001b[0m\u001b[1;33m\u001b[0m\u001b[0m\n\u001b[0;32m     50\u001b[0m             \u001b[0mspeak\u001b[0m\u001b[1;33m(\u001b[0m\u001b[1;34m\"Searching Wikipedia...\"\u001b[0m\u001b[1;33m)\u001b[0m\u001b[1;33m\u001b[0m\u001b[1;33m\u001b[0m\u001b[0m\n",
      "\u001b[1;32mC:\\Users\\ADITIS~1\\AppData\\Local\\Temp/ipykernel_17380/374921640.py\u001b[0m in \u001b[0;36mtake_command\u001b[1;34m()\u001b[0m\n\u001b[0;32m     30\u001b[0m         \u001b[0mprint\u001b[0m\u001b[1;33m(\u001b[0m\u001b[1;34m\"Listening...\"\u001b[0m\u001b[1;33m)\u001b[0m\u001b[1;33m\u001b[0m\u001b[1;33m\u001b[0m\u001b[0m\n\u001b[0;32m     31\u001b[0m         \u001b[0mr\u001b[0m\u001b[1;33m.\u001b[0m\u001b[0mpause_threshold\u001b[0m \u001b[1;33m=\u001b[0m\u001b[1;36m1\u001b[0m\u001b[1;33m\u001b[0m\u001b[1;33m\u001b[0m\u001b[0m\n\u001b[1;32m---> 32\u001b[1;33m         \u001b[0maudio\u001b[0m \u001b[1;33m=\u001b[0m \u001b[0mr\u001b[0m\u001b[1;33m.\u001b[0m\u001b[0mlisten\u001b[0m\u001b[1;33m(\u001b[0m\u001b[0msource\u001b[0m\u001b[1;33m)\u001b[0m\u001b[1;33m\u001b[0m\u001b[1;33m\u001b[0m\u001b[0m\n\u001b[0m\u001b[0;32m     33\u001b[0m     \u001b[1;32mtry\u001b[0m\u001b[1;33m:\u001b[0m\u001b[1;33m\u001b[0m\u001b[1;33m\u001b[0m\u001b[0m\n\u001b[0;32m     34\u001b[0m         \u001b[0mprint\u001b[0m\u001b[1;33m(\u001b[0m\u001b[1;34m\"Recognizing...\"\u001b[0m\u001b[1;33m)\u001b[0m\u001b[1;33m\u001b[0m\u001b[1;33m\u001b[0m\u001b[0m\n",
      "\u001b[1;32m~\\anaconda3\\lib\\site-packages\\speech_recognition\\__init__.py\u001b[0m in \u001b[0;36mlisten\u001b[1;34m(self, source, timeout, phrase_time_limit, snowboy_configuration)\u001b[0m\n\u001b[0;32m    489\u001b[0m                         \u001b[1;32mraise\u001b[0m \u001b[0mWaitTimeoutError\u001b[0m\u001b[1;33m(\u001b[0m\u001b[1;34m\"listening timed out while waiting for phrase to start\"\u001b[0m\u001b[1;33m)\u001b[0m\u001b[1;33m\u001b[0m\u001b[1;33m\u001b[0m\u001b[0m\n\u001b[0;32m    490\u001b[0m \u001b[1;33m\u001b[0m\u001b[0m\n\u001b[1;32m--> 491\u001b[1;33m                     \u001b[0mbuffer\u001b[0m \u001b[1;33m=\u001b[0m \u001b[0msource\u001b[0m\u001b[1;33m.\u001b[0m\u001b[0mstream\u001b[0m\u001b[1;33m.\u001b[0m\u001b[0mread\u001b[0m\u001b[1;33m(\u001b[0m\u001b[0msource\u001b[0m\u001b[1;33m.\u001b[0m\u001b[0mCHUNK\u001b[0m\u001b[1;33m)\u001b[0m\u001b[1;33m\u001b[0m\u001b[1;33m\u001b[0m\u001b[0m\n\u001b[0m\u001b[0;32m    492\u001b[0m                     \u001b[1;32mif\u001b[0m \u001b[0mlen\u001b[0m\u001b[1;33m(\u001b[0m\u001b[0mbuffer\u001b[0m\u001b[1;33m)\u001b[0m \u001b[1;33m==\u001b[0m \u001b[1;36m0\u001b[0m\u001b[1;33m:\u001b[0m \u001b[1;32mbreak\u001b[0m  \u001b[1;31m# reached end of the stream\u001b[0m\u001b[1;33m\u001b[0m\u001b[1;33m\u001b[0m\u001b[0m\n\u001b[0;32m    493\u001b[0m                     \u001b[0mframes\u001b[0m\u001b[1;33m.\u001b[0m\u001b[0mappend\u001b[0m\u001b[1;33m(\u001b[0m\u001b[0mbuffer\u001b[0m\u001b[1;33m)\u001b[0m\u001b[1;33m\u001b[0m\u001b[1;33m\u001b[0m\u001b[0m\n",
      "\u001b[1;32m~\\anaconda3\\lib\\site-packages\\speech_recognition\\__init__.py\u001b[0m in \u001b[0;36mread\u001b[1;34m(self, size)\u001b[0m\n\u001b[0;32m    197\u001b[0m \u001b[1;33m\u001b[0m\u001b[0m\n\u001b[0;32m    198\u001b[0m         \u001b[1;32mdef\u001b[0m \u001b[0mread\u001b[0m\u001b[1;33m(\u001b[0m\u001b[0mself\u001b[0m\u001b[1;33m,\u001b[0m \u001b[0msize\u001b[0m\u001b[1;33m)\u001b[0m\u001b[1;33m:\u001b[0m\u001b[1;33m\u001b[0m\u001b[1;33m\u001b[0m\u001b[0m\n\u001b[1;32m--> 199\u001b[1;33m             \u001b[1;32mreturn\u001b[0m \u001b[0mself\u001b[0m\u001b[1;33m.\u001b[0m\u001b[0mpyaudio_stream\u001b[0m\u001b[1;33m.\u001b[0m\u001b[0mread\u001b[0m\u001b[1;33m(\u001b[0m\u001b[0msize\u001b[0m\u001b[1;33m,\u001b[0m \u001b[0mexception_on_overflow\u001b[0m\u001b[1;33m=\u001b[0m\u001b[1;32mFalse\u001b[0m\u001b[1;33m)\u001b[0m\u001b[1;33m\u001b[0m\u001b[1;33m\u001b[0m\u001b[0m\n\u001b[0m\u001b[0;32m    200\u001b[0m \u001b[1;33m\u001b[0m\u001b[0m\n\u001b[0;32m    201\u001b[0m         \u001b[1;32mdef\u001b[0m \u001b[0mclose\u001b[0m\u001b[1;33m(\u001b[0m\u001b[0mself\u001b[0m\u001b[1;33m)\u001b[0m\u001b[1;33m:\u001b[0m\u001b[1;33m\u001b[0m\u001b[1;33m\u001b[0m\u001b[0m\n",
      "\u001b[1;32m~\\anaconda3\\lib\\site-packages\\pyaudio\\__init__.py\u001b[0m in \u001b[0;36mread\u001b[1;34m(self, num_frames, exception_on_overflow)\u001b[0m\n\u001b[0;32m    568\u001b[0m                 raise IOError(\"Not input stream\",\n\u001b[0;32m    569\u001b[0m                               paCanNotReadFromAnOutputOnlyStream)\n\u001b[1;32m--> 570\u001b[1;33m             return pa.read_stream(self._stream, num_frames,\n\u001b[0m\u001b[0;32m    571\u001b[0m                                   exception_on_overflow)\n\u001b[0;32m    572\u001b[0m \u001b[1;33m\u001b[0m\u001b[0m\n",
      "\u001b[1;31mKeyboardInterrupt\u001b[0m: "
     ]
    }
   ],
   "source": [
    "import pyttsx3\n",
    "import speech_recognition as sr\n",
    "import wikipedia\n",
    "import webbrowser\n",
    "import os\n",
    "import datetime\n",
    "\n",
    "#init pyttsx\n",
    "engine = pyttsx3.init(\"sapi5\")\n",
    "voices = engine.getProperty(\"voices\")\n",
    "\n",
    "engine.setProperty('voice', voices[1].id)\n",
    "\n",
    "def speak(audio):\n",
    "    engine.say(audio)\n",
    "    engine.runAndWait()\n",
    "    \n",
    "d = int(datetime.datetime.now().hour)\n",
    "\n",
    "if d>= 4 and d<=12:\n",
    "    speak(\"Good Morning Aditi\")\n",
    "elif d>12 and d<=18:\n",
    "    speak(\"good afternoon Aditi\")\n",
    "else:\n",
    "     speak(\"good evening Aditi\")\n",
    "    \n",
    "def take_command():\n",
    "    r = sr.Recognizer()\n",
    "    with sr.Microphone() as source:\n",
    "        print(\"Listening...\")\n",
    "        r.pause_threshold =1\n",
    "        audio = r.listen(source)\n",
    "    try:\n",
    "        print(\"Recognizing...\")\n",
    "        query = r.recognize_google(audio, language='en-in')\n",
    "        print(\"User said:\" + query + \"\\n\")\n",
    "    except Exception as e:\n",
    "        print(e)\n",
    "        speak(\"I didnt understand\")\n",
    "        return \"None\"\n",
    "    return query\n",
    "\n",
    "if __name__ == '__main__':\n",
    "   \n",
    "    speak(\"Banku assistance activated\")\n",
    "    speak(\"How can I help you?\")\n",
    "    while True:\n",
    "        query = take_command().lower()\n",
    "        if 'wikipedia' in query:\n",
    "            speak(\"Searching Wikipedia...\")\n",
    "            query = query.replace(\"wikipedia\", '')\n",
    "            results = wikipedia.summary(query, sentence=2)\n",
    "            speak(\"according to wikipedia\")\n",
    "            speak(results)\n",
    "            \n",
    "        elif 'can you' in query:\n",
    "            speak(\"Yes I'll try my best.\")\n",
    "        \n",
    "        elif 'winner of  biggboss'or 'biggboss winner' in query:\n",
    "            speak(\"Abhishek... no no Elvish\")\n",
    "            \n",
    "        elif \"work\" in query:\n",
    "            speak(\"Hum toh system hi sytumm kr rhe kroge systum\")\n",
    "            \n",
    "        elif 'aditi' in query:\n",
    "            speak(\"Ahem, Ahem! if you're talking about Aditi Sharma I know her very well.. but currently she is struggling for a job so don't disturb her.\")\n",
    "        \n",
    "        elif 'are you' in query:\n",
    "            speak(\"I am banku assistant developed by Aditi Sharma\")\n",
    "            \n",
    "        elif 'open' in query:\n",
    "            website = query.replace(\"open\", \"\").strip()\n",
    "            speak('opening ...')\n",
    "            webbrowser.open(f\"https://www.{website}.com\")\n",
    "            \n",
    "        elif 'play music' in query:\n",
    "            speak(\"opening music\")\n",
    "            webbrowser.open(\"https://open.spotify.com/track/3U4isOIWM3VvDubwSI3y7a?si=2758de50f8b94a32\")\n",
    "            \n",
    "        elif 'sleep' in query:\n",
    "            print(\"Goodbye!\")\n",
    "            \n",
    "        elif 'shutdown'or 'shut down'  in query:\n",
    "            speak(\"Now Banku is deactivated\")\n",
    "            break\n",
    "            \n",
    "      \n",
    "  "
   ]
  },
  {
   "cell_type": "code",
   "execution_count": 4,
   "id": "717fcc93",
   "metadata": {},
   "outputs": [
    {
     "ename": "TwilioRestException",
     "evalue": "HTTP 400 error: Unable to create record: The number  is unverified. Trial accounts cannot send messages to unverified numbers; verify  at twilio.com/user/account/phone-numbers/verified, or purchase a Twilio number to send messages to unverified numbers.",
     "output_type": "error",
     "traceback": [
      "\u001b[1;31m---------------------------------------------------------------------------\u001b[0m",
      "\u001b[1;31mTwilioRestException\u001b[0m                       Traceback (most recent call last)",
      "\u001b[1;32mC:\\Users\\ADITIS~1\\AppData\\Local\\Temp/ipykernel_15328/2531339795.py\u001b[0m in \u001b[0;36m<module>\u001b[1;34m\u001b[0m\n\u001b[0;32m     20\u001b[0m \u001b[1;33m\u001b[0m\u001b[0m\n\u001b[0;32m     21\u001b[0m \u001b[1;31m# Send the message\u001b[0m\u001b[1;33m\u001b[0m\u001b[1;33m\u001b[0m\u001b[0m\n\u001b[1;32m---> 22\u001b[1;33m message = client.messages.create(\n\u001b[0m\u001b[0;32m     23\u001b[0m     \u001b[0mbody\u001b[0m\u001b[1;33m=\u001b[0m\u001b[0mmessage_body\u001b[0m\u001b[1;33m,\u001b[0m\u001b[1;33m\u001b[0m\u001b[1;33m\u001b[0m\u001b[0m\n\u001b[0;32m     24\u001b[0m     \u001b[0mfrom_\u001b[0m\u001b[1;33m=\u001b[0m\u001b[0mfrom_phone_number\u001b[0m\u001b[1;33m,\u001b[0m\u001b[1;33m\u001b[0m\u001b[1;33m\u001b[0m\u001b[0m\n",
      "\u001b[1;32m~\\anaconda3\\lib\\site-packages\\twilio\\rest\\api\\v2010\\account\\message\\__init__.py\u001b[0m in \u001b[0;36mcreate\u001b[1;34m(self, to, status_callback, application_sid, max_price, provide_feedback, attempt, validity_period, force_delivery, content_retention, address_retention, smart_encoded, persistent_action, shorten_urls, schedule_type, send_at, send_as_mms, content_variables, risk_check, from_, messaging_service_sid, body, media_url, content_sid)\u001b[0m\n\u001b[0;32m    558\u001b[0m         )\n\u001b[0;32m    559\u001b[0m \u001b[1;33m\u001b[0m\u001b[0m\n\u001b[1;32m--> 560\u001b[1;33m         payload = self._version.create(\n\u001b[0m\u001b[0;32m    561\u001b[0m             \u001b[0mmethod\u001b[0m\u001b[1;33m=\u001b[0m\u001b[1;34m\"POST\"\u001b[0m\u001b[1;33m,\u001b[0m\u001b[1;33m\u001b[0m\u001b[1;33m\u001b[0m\u001b[0m\n\u001b[0;32m    562\u001b[0m             \u001b[0muri\u001b[0m\u001b[1;33m=\u001b[0m\u001b[0mself\u001b[0m\u001b[1;33m.\u001b[0m\u001b[0m_uri\u001b[0m\u001b[1;33m,\u001b[0m\u001b[1;33m\u001b[0m\u001b[1;33m\u001b[0m\u001b[0m\n",
      "\u001b[1;32m~\\anaconda3\\lib\\site-packages\\twilio\\base\\version.py\u001b[0m in \u001b[0;36mcreate\u001b[1;34m(self, method, uri, params, data, headers, auth, timeout, allow_redirects)\u001b[0m\n\u001b[0;32m    463\u001b[0m         )\n\u001b[0;32m    464\u001b[0m \u001b[1;33m\u001b[0m\u001b[0m\n\u001b[1;32m--> 465\u001b[1;33m         \u001b[1;32mreturn\u001b[0m \u001b[0mself\u001b[0m\u001b[1;33m.\u001b[0m\u001b[0m_parse_create\u001b[0m\u001b[1;33m(\u001b[0m\u001b[0mmethod\u001b[0m\u001b[1;33m,\u001b[0m \u001b[0muri\u001b[0m\u001b[1;33m,\u001b[0m \u001b[0mresponse\u001b[0m\u001b[1;33m)\u001b[0m\u001b[1;33m\u001b[0m\u001b[1;33m\u001b[0m\u001b[0m\n\u001b[0m\u001b[0;32m    466\u001b[0m \u001b[1;33m\u001b[0m\u001b[0m\n\u001b[0;32m    467\u001b[0m     async def create_async(\n",
      "\u001b[1;32m~\\anaconda3\\lib\\site-packages\\twilio\\base\\version.py\u001b[0m in \u001b[0;36m_parse_create\u001b[1;34m(self, method, uri, response)\u001b[0m\n\u001b[0;32m    434\u001b[0m         \"\"\"\n\u001b[0;32m    435\u001b[0m         \u001b[1;32mif\u001b[0m \u001b[0mresponse\u001b[0m\u001b[1;33m.\u001b[0m\u001b[0mstatus_code\u001b[0m \u001b[1;33m<\u001b[0m \u001b[1;36m200\u001b[0m \u001b[1;32mor\u001b[0m \u001b[0mresponse\u001b[0m\u001b[1;33m.\u001b[0m\u001b[0mstatus_code\u001b[0m \u001b[1;33m>=\u001b[0m \u001b[1;36m300\u001b[0m\u001b[1;33m:\u001b[0m\u001b[1;33m\u001b[0m\u001b[1;33m\u001b[0m\u001b[0m\n\u001b[1;32m--> 436\u001b[1;33m             \u001b[1;32mraise\u001b[0m \u001b[0mself\u001b[0m\u001b[1;33m.\u001b[0m\u001b[0mexception\u001b[0m\u001b[1;33m(\u001b[0m\u001b[0mmethod\u001b[0m\u001b[1;33m,\u001b[0m \u001b[0muri\u001b[0m\u001b[1;33m,\u001b[0m \u001b[0mresponse\u001b[0m\u001b[1;33m,\u001b[0m \u001b[1;34m\"Unable to create record\"\u001b[0m\u001b[1;33m)\u001b[0m\u001b[1;33m\u001b[0m\u001b[1;33m\u001b[0m\u001b[0m\n\u001b[0m\u001b[0;32m    437\u001b[0m \u001b[1;33m\u001b[0m\u001b[0m\n\u001b[0;32m    438\u001b[0m         \u001b[1;32mreturn\u001b[0m \u001b[0mjson\u001b[0m\u001b[1;33m.\u001b[0m\u001b[0mloads\u001b[0m\u001b[1;33m(\u001b[0m\u001b[0mresponse\u001b[0m\u001b[1;33m.\u001b[0m\u001b[0mtext\u001b[0m\u001b[1;33m)\u001b[0m\u001b[1;33m\u001b[0m\u001b[1;33m\u001b[0m\u001b[0m\n",
      "\u001b[1;31mTwilioRestException\u001b[0m: HTTP 400 error: Unable to create record: The number  is unverified. Trial accounts cannot send messages to unverified numbers; verify  at twilio.com/user/account/phone-numbers/verified, or purchase a Twilio number to send messages to unverified numbers."
     ]
    }
   ],
   "source": [
    "from twilio.rest import Client\n",
    "\n",
    "# Your Twilio Account SID and Auth Token\n",
    "account_sid = 'AC29c124beb6e03a8a3846d88c0e271426'\n",
    "auth_token = 'e209e662bf4307fbdf55f42a8c4f8a9a'\n",
    "\n",
    "# Create a Twilio client\n",
    "client = Client(account_sid, auth_token)\n",
    "\n",
    "# The phone number to which you want to send the message\n",
    "to_phone_number = '+917065915607'  # Replace with the recipient's phone number\n",
    "\n",
    "# The phone number you purchased or verified with Twilio\n",
    "from_phone_number = '+13148848906'\n",
    "\n",
    " # Replace with your Twilio phone number\n",
    "\n",
    "# The message you want to send\n",
    "message_body = \"All the best!\"\n",
    "\n",
    "# Send the message\n",
    "message = client.messages.create(\n",
    "    body=message_body,\n",
    "    from_=from_phone_number,\n",
    "    to=to_phone_number\n",
    ")\n",
    "\n",
    "print(f\"Message sent with SID: {message.sid}\")"
   ]
  },
  {
   "cell_type": "code",
   "execution_count": 10,
   "id": "6328e98f",
   "metadata": {},
   "outputs": [
    {
     "ename": "SyntaxError",
     "evalue": "invalid syntax (Temp/ipykernel_2392/931181292.py, line 8)",
     "output_type": "error",
     "traceback": [
      "\u001b[1;36m  File \u001b[1;32m\"C:\\Users\\ADITIS~1\\AppData\\Local\\Temp/ipykernel_2392/931181292.py\"\u001b[1;36m, line \u001b[1;32m8\u001b[0m\n\u001b[1;33m    return True, message.sid\u001b[0m\n\u001b[1;37m    ^\u001b[0m\n\u001b[1;31mSyntaxError\u001b[0m\u001b[1;31m:\u001b[0m invalid syntax\n"
     ]
    }
   ],
   "source": [
    "def send_sms(to_phone_number, message_body):\n",
    "    try:\n",
    "        message = client.messages.create(\n",
    "        body=message_body,\n",
    "        from_=from_phone_number,\n",
    "        to=to_phone_number\n",
    ")  \n",
    "    return True, message.sid\n",
    "   \n",
    "    except Exceptiom as e:\n",
    "        return False, str(e)\n",
    "    \n"
   ]
  },
  {
   "cell_type": "code",
   "execution_count": 5,
   "id": "d13f4949",
   "metadata": {},
   "outputs": [
    {
     "name": "stdout",
     "output_type": "stream",
     "text": [
      "Listening...\n",
      "Google Speech Recognition could not understand audio.\n"
     ]
    }
   ],
   "source": [
    "\n",
    "import speech_recognition as sr\n",
    "from twilio.rest import Client\n",
    "from gtts import gTTS\n",
    "import os\n",
    "\n",
    "# Twilio credentials\n",
    "account_sid = 'AC29c124beb6e03a8a3846d88c0e271426'\n",
    "auth_token = 'e209e662bf4307fbdf55f42a8c4f8a9a'\n",
    "from_phone_number = '+13148848906'  # Replace with your Twilio phone number\n",
    "\n",
    "client = Client(account_sid, auth_token)\n",
    "\n",
    "# Function to send an SMS\n",
    "def send_sms(to_phone_number, message_body):\n",
    "    try:\n",
    "        message = client.messages.create(\n",
    "            body=message_body,\n",
    "            from_=from_phone_number,\n",
    "            to=to_phone_number\n",
    "        )\n",
    "        return True, message.sid\n",
    "    except Exception as e:\n",
    "        return False, str(e)\n",
    "\n",
    "# Initialize the recognizer\n",
    "recognizer = sr.Recognizer()\n",
    "\n",
    "def main():\n",
    "    # Voice assistant prompts the user for the recipient's phone number\n",
    "    tts = gTTS(\"Please say the recipient's phone number.\")\n",
    "    tts.save(\"phone_number.mp3\")\n",
    "    os.system(\"mpg321 phone_number.mp3\")\n",
    "\n",
    "    with sr.Microphone() as source:\n",
    "        print(\"Listening...\")\n",
    "        audio = recognizer.listen(source)\n",
    "\n",
    "    try:\n",
    "        # Recognize the phone number from speech input\n",
    "        phone_number = recognizer.recognize_google(audio)\n",
    "        print(f\"Recipient's phone number: {phone_number}\")\n",
    "        speak(f\"{phone_number}\")\n",
    "\n",
    "        # Voice assistant prompts the user for the message\n",
    "        tts = gTTS(\"Please say the message you want to send.\")\n",
    "        tts.save(\"message.mp3\")\n",
    "        os.system(\"mpg321 message.mp3\")\n",
    "\n",
    "        with sr.Microphone() as source:\n",
    "            print(\"Listening...\")\n",
    "            audio = recognizer.listen(source)\n",
    "\n",
    "        # Recognize the message from speech input\n",
    "        message_body = recognizer.recognize_google(audio)\n",
    "        print(f\"Message: {message_body}\")\n",
    "\n",
    "        # Send the SMS\n",
    "        success, sid = send_sms(phone_number, message_body)\n",
    "        if success:\n",
    "            print(f\"Message sent with SID: {sid}\")\n",
    "            speak(\"Banku sent your Message, Aditi!\")\n",
    "        else:\n",
    "            print(\"Failed to send message.\")\n",
    "            speak(\"banku is so sorry for message failure\")\n",
    "\n",
    "    except sr.UnknownValueError:\n",
    "        print(\"Google Speech Recognition could not understand audio.\")\n",
    "    except sr.RequestError as e:\n",
    "        print(f\"Could not request results from Google Speech Recognition service; {e}\")\n",
    "\n",
    "if __name__ == \"__main__\":\n",
    "    main()"
   ]
  },
  {
   "cell_type": "code",
   "execution_count": null,
   "id": "24b3a1b8",
   "metadata": {},
   "outputs": [],
   "source": []
  },
  {
   "cell_type": "code",
   "execution_count": null,
   "id": "283ed4bf",
   "metadata": {},
   "outputs": [],
   "source": []
  }
 ],
 "metadata": {
  "kernelspec": {
   "display_name": "Python 3 (ipykernel)",
   "language": "python",
   "name": "python3"
  },
  "language_info": {
   "codemirror_mode": {
    "name": "ipython",
    "version": 3
   },
   "file_extension": ".py",
   "mimetype": "text/x-python",
   "name": "python",
   "nbconvert_exporter": "python",
   "pygments_lexer": "ipython3",
   "version": "3.9.7"
  }
 },
 "nbformat": 4,
 "nbformat_minor": 5
}
